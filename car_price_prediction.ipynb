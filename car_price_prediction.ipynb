{
  "nbformat": 4,
  "nbformat_minor": 0,
  "metadata": {
    "colab": {
      "provenance": [],
      "authorship_tag": "ABX9TyNFuNmuhUS0I4xKBTyHRX2w",
      "include_colab_link": true
    },
    "kernelspec": {
      "name": "python3",
      "display_name": "Python 3"
    },
    "language_info": {
      "name": "python"
    }
  },
  "cells": [
    {
      "cell_type": "markdown",
      "metadata": {
        "id": "view-in-github",
        "colab_type": "text"
      },
      "source": [
        "<a href=\"https://colab.research.google.com/github/theomzz/car-price-prediction/blob/main/car_price_prediction.ipynb\" target=\"_parent\"><img src=\"https://colab.research.google.com/assets/colab-badge.svg\" alt=\"Open In Colab\"/></a>"
      ]
    },
    {
      "cell_type": "code",
      "execution_count": 5,
      "metadata": {
        "colab": {
          "base_uri": "https://localhost:8080/"
        },
        "id": "7-ysb3aDRvUR",
        "outputId": "105eff0d-6e0a-43d4-a02d-69aba0f59b93"
      },
      "outputs": [
        {
          "output_type": "stream",
          "name": "stdout",
          "text": [
            "[27294.60557301 19056.8114323  10744.30912065 11792.12078947\n",
            " 27768.60560006  5276.99426203  7766.77605831  7991.67954899\n",
            "  8317.38330375  8677.40670287 16827.13604642  7905.10699245\n",
            " 18033.60340011  9458.35104491 42390.8257986   6914.9418602\n",
            " -7878.35521982 13241.29971813 10764.35536719 10018.80680229\n",
            " 12071.398679   17843.71879949  5607.38640821  2525.6963238\n",
            "  6929.37141188 27538.75442193 12381.84925427 16717.14048352\n",
            "  4087.76198824 18109.17780732 28604.93520338  5996.19929721\n",
            "  6816.33517123 23703.86503132  7275.79856967 26964.956045\n",
            " 13210.73081096 12737.05558032  6317.90860774 13506.59923832\n",
            "  6635.19771046]\n",
            "Root Mean Squared Error: 3683.990401868841\n"
          ]
        }
      ],
      "source": [
        "import pandas as pd\n",
        "import numpy as np\n",
        "from sklearn.model_selection import train_test_split\n",
        "from sklearn.linear_model import LinearRegression\n",
        "from sklearn.metrics import mean_squared_error\n",
        "\n",
        "car_data = pd.read_csv('Car_data.csv')\n",
        "\n",
        "\n",
        "# drop columns that are not useful for prediction\n",
        "car_data = car_data.drop(['car_ID', 'symboling', 'CarName'], axis=1)\n",
        "\n",
        "# convert categorical variables into numerical variables using one-hot encoding\n",
        "car_data = pd.get_dummies(car_data, columns=['fueltype', 'aspiration', 'doornumber', 'carbody', 'drivewheel', 'enginelocation', 'enginetype', 'fuelsystem'])\n",
        "\n",
        "# remove rows with missing values\n",
        "car_data = car_data.dropna()\n",
        "\n",
        "\n",
        "X = car_data.drop(['price','cylindernumber'], axis=1)\n",
        "y = car_data['price']\n",
        "\n",
        "X_train, X_test, y_train, y_test = train_test_split(X, y, test_size=0.2, random_state=42)\n",
        "\n",
        "\n",
        "model = LinearRegression()\n",
        "model.fit(X_train, y_train)\n",
        "\n",
        "# predict on the test set\n",
        "y_pred = model.predict(X_test)\n",
        "print(y_pred)\n",
        "\n",
        "# # calculate root mean squared error\n",
        "rmse = np.sqrt(mean_squared_error(y_test, y_pred))\n",
        "print('Root Mean Squared Error:', rmse)\n",
        "\n",
        "\n"
      ]
    }
  ]
}